{
 "cells": [
  {
   "cell_type": "code",
   "execution_count": 1,
   "metadata": {
    "collapsed": false
   },
   "outputs": [
    {
     "name": "stderr",
     "output_type": "stream",
     "text": [
      "Loading required package: xts\n",
      "Loading required package: zoo\n",
      "\n",
      "Attaching package: ‘zoo’\n",
      "\n",
      "The following objects are masked from ‘package:base’:\n",
      "\n",
      "    as.Date, as.Date.numeric\n",
      "\n"
     ]
    }
   ],
   "source": [
    "library (Quandl)"
   ]
  },
  {
   "cell_type": "code",
   "execution_count": 6,
   "metadata": {
    "collapsed": false
   },
   "outputs": [
    {
     "data": {
      "text/html": [
       "<table>\n",
       "<thead><tr><th scope=col>Date</th><th scope=col>Value</th></tr></thead>\n",
       "<tbody>\n",
       "\t<tr><td>2016-09-30</td><td>354000    </td></tr>\n",
       "\t<tr><td>2016-08-31</td><td>352200    </td></tr>\n",
       "\t<tr><td>2016-07-31</td><td>350900    </td></tr>\n",
       "\t<tr><td>2016-06-30</td><td>349200    </td></tr>\n",
       "\t<tr><td>2016-05-31</td><td>347500    </td></tr>\n",
       "\t<tr><td>2016-04-30</td><td>344700    </td></tr>\n",
       "</tbody>\n",
       "</table>\n"
      ],
      "text/latex": [
       "\\begin{tabular}{r|ll}\n",
       " Date & Value\\\\\n",
       "\\hline\n",
       "\t 2016-09-30 & 354000    \\\\\n",
       "\t 2016-08-31 & 352200    \\\\\n",
       "\t 2016-07-31 & 350900    \\\\\n",
       "\t 2016-06-30 & 349200    \\\\\n",
       "\t 2016-05-31 & 347500    \\\\\n",
       "\t 2016-04-30 & 344700    \\\\\n",
       "\\end{tabular}\n"
      ],
      "text/plain": [
       "  Date       Value \n",
       "1 2016-09-30 354000\n",
       "2 2016-08-31 352200\n",
       "3 2016-07-31 350900\n",
       "4 2016-06-30 349200\n",
       "5 2016-05-31 347500\n",
       "6 2016-04-30 344700"
      ]
     },
     "metadata": {},
     "output_type": "display_data"
    }
   ],
   "source": [
    "data <- Quandl(\"ZILL/S00014_A\")\n",
    "head(data)"
   ]
  },
  {
   "cell_type": "code",
   "execution_count": 7,
   "metadata": {
    "collapsed": true
   },
   "outputs": [],
   "source": [
    "Quandl.api_key(\"g7xcqx_2HHUEsJtEy4fR\")"
   ]
  },
  {
   "cell_type": "code",
   "execution_count": null,
   "metadata": {
    "collapsed": true
   },
   "outputs": [],
   "source": []
  }
 ],
 "metadata": {
  "kernelspec": {
   "display_name": "R",
   "language": "R",
   "name": "ir"
  },
  "language_info": {
   "codemirror_mode": "r",
   "file_extension": ".r",
   "mimetype": "text/x-r-source",
   "name": "R",
   "pygments_lexer": "r",
   "version": "3.3.2"
  }
 },
 "nbformat": 4,
 "nbformat_minor": 0
}
