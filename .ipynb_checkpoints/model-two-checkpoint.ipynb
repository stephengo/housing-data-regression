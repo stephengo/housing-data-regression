{
 "cells": [
  {
   "cell_type": "code",
   "execution_count": 21,
   "metadata": {
    "collapsed": false
   },
   "outputs": [
    {
     "name": "stderr",
     "output_type": "stream",
     "text": [
      "Loading required package: lattice\n",
      "Loading required package: survival\n",
      "Loading required package: Formula\n",
      "Loading required package: ggplot2\n",
      "\n",
      "Attaching package: ‘Hmisc’\n",
      "\n",
      "The following objects are masked from ‘package:base’:\n",
      "\n",
      "    format.pval, round.POSIXt, trunc.POSIXt, units\n",
      "\n",
      "\n",
      "Attaching package: ‘ggvis’\n",
      "\n",
      "The following object is masked from ‘package:ggplot2’:\n",
      "\n",
      "    resolution\n",
      "\n"
     ]
    }
   ],
   "source": [
    "library(Hmisc)\n",
    "library(car)\n",
    "library(ggplot2)\n",
    "library(lattice)\n",
    "library(survival)\n",
    "library(ggvis)\n",
    "library(MASS)"
   ]
  },
  {
   "cell_type": "code",
   "execution_count": 5,
   "metadata": {
    "collapsed": true
   },
   "outputs": [],
   "source": [
    "df = read.csv(\"AmesHousing-clean.csv\")"
   ]
  },
  {
   "cell_type": "code",
   "execution_count": 6,
   "metadata": {
    "collapsed": false
   },
   "outputs": [
    {
     "data": {
      "text/html": [
       "<ol class=list-inline>\n",
       "\t<li>'MS.SubClass'</li>\n",
       "\t<li>'MS.Zoning'</li>\n",
       "\t<li>'Lot.Frontage'</li>\n",
       "\t<li>'Lot.Area'</li>\n",
       "\t<li>'Street'</li>\n",
       "\t<li>'Alley'</li>\n",
       "\t<li>'Lot.Shape'</li>\n",
       "\t<li>'Land.Contour'</li>\n",
       "\t<li>'Lot.Config'</li>\n",
       "\t<li>'Land.Slope'</li>\n",
       "\t<li>'Neighborhood'</li>\n",
       "\t<li>'Condition.1'</li>\n",
       "\t<li>'Bldg.Type'</li>\n",
       "\t<li>'House.Style'</li>\n",
       "\t<li>'Overall.Qual'</li>\n",
       "\t<li>'Overall.Cond'</li>\n",
       "\t<li>'Year.Built'</li>\n",
       "\t<li>'Year.Remod.Add'</li>\n",
       "\t<li>'Roof.Style'</li>\n",
       "\t<li>'Exterior.1st'</li>\n",
       "\t<li>'Exterior.2nd'</li>\n",
       "\t<li>'Mas.Vnr.Type'</li>\n",
       "\t<li>'Mas.Vnr.Area'</li>\n",
       "\t<li>'Exter.Qual'</li>\n",
       "\t<li>'Exter.Cond'</li>\n",
       "\t<li>'Foundation'</li>\n",
       "\t<li>'Bsmt.Qual'</li>\n",
       "\t<li>'Bsmt.Cond'</li>\n",
       "\t<li>'Bsmt.Exposure'</li>\n",
       "\t<li>'BsmtFin.Type.1'</li>\n",
       "\t<li>'BsmtFin.SF.1'</li>\n",
       "\t<li>'BsmtFin.Type.2'</li>\n",
       "\t<li>'BsmtFin.SF.2'</li>\n",
       "\t<li>'Bsmt.Unf.SF'</li>\n",
       "\t<li>'Total.Bsmt.SF'</li>\n",
       "\t<li>'Heating'</li>\n",
       "\t<li>'Heating.QC'</li>\n",
       "\t<li>'Central.Air'</li>\n",
       "\t<li>'Electrical'</li>\n",
       "\t<li>'X1st.Flr.SF'</li>\n",
       "\t<li>'X2nd.Flr.SF'</li>\n",
       "\t<li>'Low.Qual.Fin.SF'</li>\n",
       "\t<li>'Gr.Liv.Area'</li>\n",
       "\t<li>'Bsmt.Full.Bath'</li>\n",
       "\t<li>'Bsmt.Half.Bath'</li>\n",
       "\t<li>'Full.Bath'</li>\n",
       "\t<li>'Half.Bath'</li>\n",
       "\t<li>'Bedroom.AbvGr'</li>\n",
       "\t<li>'Kitchen.AbvGr'</li>\n",
       "\t<li>'Kitchen.Qual'</li>\n",
       "\t<li>'TotRms.AbvGrd'</li>\n",
       "\t<li>'Functional'</li>\n",
       "\t<li>'Fireplaces'</li>\n",
       "\t<li>'Fireplace.Qu'</li>\n",
       "\t<li>'Garage.Type'</li>\n",
       "\t<li>'Garage.Yr.Blt'</li>\n",
       "\t<li>'Garage.Finish'</li>\n",
       "\t<li>'Garage.Cars'</li>\n",
       "\t<li>'Garage.Area'</li>\n",
       "\t<li>'Garage.Qual'</li>\n",
       "\t<li>'Garage.Cond'</li>\n",
       "\t<li>'Paved.Drive'</li>\n",
       "\t<li>'Wood.Deck.SF'</li>\n",
       "\t<li>'Open.Porch.SF'</li>\n",
       "\t<li>'Fence'</li>\n",
       "\t<li>'Misc.Feature'</li>\n",
       "\t<li>'Mo.Sold'</li>\n",
       "\t<li>'Yr.Sold'</li>\n",
       "\t<li>'Sale.Type'</li>\n",
       "\t<li>'Sale.Condition'</li>\n",
       "\t<li>'SalePrice'</li>\n",
       "</ol>\n"
      ],
      "text/latex": [
       "\\begin{enumerate*}\n",
       "\\item 'MS.SubClass'\n",
       "\\item 'MS.Zoning'\n",
       "\\item 'Lot.Frontage'\n",
       "\\item 'Lot.Area'\n",
       "\\item 'Street'\n",
       "\\item 'Alley'\n",
       "\\item 'Lot.Shape'\n",
       "\\item 'Land.Contour'\n",
       "\\item 'Lot.Config'\n",
       "\\item 'Land.Slope'\n",
       "\\item 'Neighborhood'\n",
       "\\item 'Condition.1'\n",
       "\\item 'Bldg.Type'\n",
       "\\item 'House.Style'\n",
       "\\item 'Overall.Qual'\n",
       "\\item 'Overall.Cond'\n",
       "\\item 'Year.Built'\n",
       "\\item 'Year.Remod.Add'\n",
       "\\item 'Roof.Style'\n",
       "\\item 'Exterior.1st'\n",
       "\\item 'Exterior.2nd'\n",
       "\\item 'Mas.Vnr.Type'\n",
       "\\item 'Mas.Vnr.Area'\n",
       "\\item 'Exter.Qual'\n",
       "\\item 'Exter.Cond'\n",
       "\\item 'Foundation'\n",
       "\\item 'Bsmt.Qual'\n",
       "\\item 'Bsmt.Cond'\n",
       "\\item 'Bsmt.Exposure'\n",
       "\\item 'BsmtFin.Type.1'\n",
       "\\item 'BsmtFin.SF.1'\n",
       "\\item 'BsmtFin.Type.2'\n",
       "\\item 'BsmtFin.SF.2'\n",
       "\\item 'Bsmt.Unf.SF'\n",
       "\\item 'Total.Bsmt.SF'\n",
       "\\item 'Heating'\n",
       "\\item 'Heating.QC'\n",
       "\\item 'Central.Air'\n",
       "\\item 'Electrical'\n",
       "\\item 'X1st.Flr.SF'\n",
       "\\item 'X2nd.Flr.SF'\n",
       "\\item 'Low.Qual.Fin.SF'\n",
       "\\item 'Gr.Liv.Area'\n",
       "\\item 'Bsmt.Full.Bath'\n",
       "\\item 'Bsmt.Half.Bath'\n",
       "\\item 'Full.Bath'\n",
       "\\item 'Half.Bath'\n",
       "\\item 'Bedroom.AbvGr'\n",
       "\\item 'Kitchen.AbvGr'\n",
       "\\item 'Kitchen.Qual'\n",
       "\\item 'TotRms.AbvGrd'\n",
       "\\item 'Functional'\n",
       "\\item 'Fireplaces'\n",
       "\\item 'Fireplace.Qu'\n",
       "\\item 'Garage.Type'\n",
       "\\item 'Garage.Yr.Blt'\n",
       "\\item 'Garage.Finish'\n",
       "\\item 'Garage.Cars'\n",
       "\\item 'Garage.Area'\n",
       "\\item 'Garage.Qual'\n",
       "\\item 'Garage.Cond'\n",
       "\\item 'Paved.Drive'\n",
       "\\item 'Wood.Deck.SF'\n",
       "\\item 'Open.Porch.SF'\n",
       "\\item 'Fence'\n",
       "\\item 'Misc.Feature'\n",
       "\\item 'Mo.Sold'\n",
       "\\item 'Yr.Sold'\n",
       "\\item 'Sale.Type'\n",
       "\\item 'Sale.Condition'\n",
       "\\item 'SalePrice'\n",
       "\\end{enumerate*}\n"
      ],
      "text/markdown": [
       "1. 'MS.SubClass'\n",
       "2. 'MS.Zoning'\n",
       "3. 'Lot.Frontage'\n",
       "4. 'Lot.Area'\n",
       "5. 'Street'\n",
       "6. 'Alley'\n",
       "7. 'Lot.Shape'\n",
       "8. 'Land.Contour'\n",
       "9. 'Lot.Config'\n",
       "10. 'Land.Slope'\n",
       "11. 'Neighborhood'\n",
       "12. 'Condition.1'\n",
       "13. 'Bldg.Type'\n",
       "14. 'House.Style'\n",
       "15. 'Overall.Qual'\n",
       "16. 'Overall.Cond'\n",
       "17. 'Year.Built'\n",
       "18. 'Year.Remod.Add'\n",
       "19. 'Roof.Style'\n",
       "20. 'Exterior.1st'\n",
       "21. 'Exterior.2nd'\n",
       "22. 'Mas.Vnr.Type'\n",
       "23. 'Mas.Vnr.Area'\n",
       "24. 'Exter.Qual'\n",
       "25. 'Exter.Cond'\n",
       "26. 'Foundation'\n",
       "27. 'Bsmt.Qual'\n",
       "28. 'Bsmt.Cond'\n",
       "29. 'Bsmt.Exposure'\n",
       "30. 'BsmtFin.Type.1'\n",
       "31. 'BsmtFin.SF.1'\n",
       "32. 'BsmtFin.Type.2'\n",
       "33. 'BsmtFin.SF.2'\n",
       "34. 'Bsmt.Unf.SF'\n",
       "35. 'Total.Bsmt.SF'\n",
       "36. 'Heating'\n",
       "37. 'Heating.QC'\n",
       "38. 'Central.Air'\n",
       "39. 'Electrical'\n",
       "40. 'X1st.Flr.SF'\n",
       "41. 'X2nd.Flr.SF'\n",
       "42. 'Low.Qual.Fin.SF'\n",
       "43. 'Gr.Liv.Area'\n",
       "44. 'Bsmt.Full.Bath'\n",
       "45. 'Bsmt.Half.Bath'\n",
       "46. 'Full.Bath'\n",
       "47. 'Half.Bath'\n",
       "48. 'Bedroom.AbvGr'\n",
       "49. 'Kitchen.AbvGr'\n",
       "50. 'Kitchen.Qual'\n",
       "51. 'TotRms.AbvGrd'\n",
       "52. 'Functional'\n",
       "53. 'Fireplaces'\n",
       "54. 'Fireplace.Qu'\n",
       "55. 'Garage.Type'\n",
       "56. 'Garage.Yr.Blt'\n",
       "57. 'Garage.Finish'\n",
       "58. 'Garage.Cars'\n",
       "59. 'Garage.Area'\n",
       "60. 'Garage.Qual'\n",
       "61. 'Garage.Cond'\n",
       "62. 'Paved.Drive'\n",
       "63. 'Wood.Deck.SF'\n",
       "64. 'Open.Porch.SF'\n",
       "65. 'Fence'\n",
       "66. 'Misc.Feature'\n",
       "67. 'Mo.Sold'\n",
       "68. 'Yr.Sold'\n",
       "69. 'Sale.Type'\n",
       "70. 'Sale.Condition'\n",
       "71. 'SalePrice'\n",
       "\n",
       "\n"
      ],
      "text/plain": [
       " [1] \"MS.SubClass\"     \"MS.Zoning\"       \"Lot.Frontage\"    \"Lot.Area\"       \n",
       " [5] \"Street\"          \"Alley\"           \"Lot.Shape\"       \"Land.Contour\"   \n",
       " [9] \"Lot.Config\"      \"Land.Slope\"      \"Neighborhood\"    \"Condition.1\"    \n",
       "[13] \"Bldg.Type\"       \"House.Style\"     \"Overall.Qual\"    \"Overall.Cond\"   \n",
       "[17] \"Year.Built\"      \"Year.Remod.Add\"  \"Roof.Style\"      \"Exterior.1st\"   \n",
       "[21] \"Exterior.2nd\"    \"Mas.Vnr.Type\"    \"Mas.Vnr.Area\"    \"Exter.Qual\"     \n",
       "[25] \"Exter.Cond\"      \"Foundation\"      \"Bsmt.Qual\"       \"Bsmt.Cond\"      \n",
       "[29] \"Bsmt.Exposure\"   \"BsmtFin.Type.1\"  \"BsmtFin.SF.1\"    \"BsmtFin.Type.2\" \n",
       "[33] \"BsmtFin.SF.2\"    \"Bsmt.Unf.SF\"     \"Total.Bsmt.SF\"   \"Heating\"        \n",
       "[37] \"Heating.QC\"      \"Central.Air\"     \"Electrical\"      \"X1st.Flr.SF\"    \n",
       "[41] \"X2nd.Flr.SF\"     \"Low.Qual.Fin.SF\" \"Gr.Liv.Area\"     \"Bsmt.Full.Bath\" \n",
       "[45] \"Bsmt.Half.Bath\"  \"Full.Bath\"       \"Half.Bath\"       \"Bedroom.AbvGr\"  \n",
       "[49] \"Kitchen.AbvGr\"   \"Kitchen.Qual\"    \"TotRms.AbvGrd\"   \"Functional\"     \n",
       "[53] \"Fireplaces\"      \"Fireplace.Qu\"    \"Garage.Type\"     \"Garage.Yr.Blt\"  \n",
       "[57] \"Garage.Finish\"   \"Garage.Cars\"     \"Garage.Area\"     \"Garage.Qual\"    \n",
       "[61] \"Garage.Cond\"     \"Paved.Drive\"     \"Wood.Deck.SF\"    \"Open.Porch.SF\"  \n",
       "[65] \"Fence\"           \"Misc.Feature\"    \"Mo.Sold\"         \"Yr.Sold\"        \n",
       "[69] \"Sale.Type\"       \"Sale.Condition\"  \"SalePrice\"      "
      ]
     },
     "metadata": {},
     "output_type": "display_data"
    }
   ],
   "source": [
    "colnames(df)"
   ]
  },
  {
   "cell_type": "code",
   "execution_count": 7,
   "metadata": {
    "collapsed": false
   },
   "outputs": [
    {
     "data": {
      "text/plain": [
       "  MS.SubClass      MS.Zoning     Lot.Frontage       Lot.Area       Street    \n",
       " Min.   : 20.0   A (agr):   2   Min.   : 21.00   Min.   :  1300   Grvl:  12  \n",
       " 1st Qu.: 20.0   C (all):  25   1st Qu.: 58.00   1st Qu.:  7441   Pave:2916  \n",
       " Median : 50.0   FV     : 139   Median : 68.00   Median :  9444              \n",
       " Mean   : 57.4   I (all):   2   Mean   : 69.22   Mean   : 10150              \n",
       " 3rd Qu.: 70.0   RH     :  27   3rd Qu.: 80.00   3rd Qu.: 11556              \n",
       " Max.   :190.0   RL     :2273   Max.   :313.00   Max.   :215245              \n",
       "                 RM     : 460   NA's   :490                                  \n",
       "  Alley      Lot.Shape  Land.Contour   Lot.Config   Land.Slope  Neighborhood \n",
       " Grvl: 120   IR1: 978   Bnk: 117     Corner : 511   Gtl:2787   NAmes  : 443  \n",
       " Pave:  78   IR2:  76   HLS: 120     CulDSac: 180   Mod: 125   CollgCr: 267  \n",
       " NA's:2730   IR3:  16   Low:  60     FR2    :  85   Sev:  16   OldTown: 239  \n",
       "             Reg:1858   Lvl:2631     FR3    :  13              Edwards: 194  \n",
       "                                     Inside :2139              Somerst: 182  \n",
       "                                                               NridgHt: 166  \n",
       "                                                               (Other):1437  \n",
       "  Condition.1    Bldg.Type     House.Style    Overall.Qual     Overall.Cond  \n",
       " Norm   :2521   1Fam  :2423   1Story :1480   Min.   : 1.000   Min.   :1.000  \n",
       " Feedr  : 163   2fmCon:  62   2Story : 872   1st Qu.: 5.000   1st Qu.:5.000  \n",
       " Artery :  92   Duplex: 109   1.5Fin : 314   Median : 6.000   Median :5.000  \n",
       " RRAn   :  50   Twnhs : 101   SLvl   : 128   Mean   : 6.096   Mean   :5.562  \n",
       " PosN   :  39   TwnhsE: 233   SFoyer :  83   3rd Qu.: 7.000   3rd Qu.:6.000  \n",
       " RRAe   :  28                 2.5Unf :  24   Max.   :10.000   Max.   :9.000  \n",
       " (Other):  35                 (Other):  27                                   \n",
       "   Year.Built   Year.Remod.Add   Roof.Style    Exterior.1st   Exterior.2nd \n",
       " Min.   :1872   Min.   :1950   Flat   :  20   VinylSd:1026   VinylSd:1015  \n",
       " 1st Qu.:1954   1st Qu.:1965   Gable  :2319   MetalSd: 449   MetalSd: 447  \n",
       " Median :1973   Median :1993   Gambrel:  22   HdBoard: 442   HdBoard: 406  \n",
       " Mean   :1971   Mean   :1984   Hip    : 551   Wd Sdng: 419   Wd Sdng: 397  \n",
       " 3rd Qu.:2001   3rd Qu.:2004   Mansard:  11   Plywood: 221   Plywood: 273  \n",
       " Max.   :2010   Max.   :2010   Shed   :   5   CemntBd: 126   CmentBd: 126  \n",
       "                                              (Other): 245   (Other): 264  \n",
       "  Mas.Vnr.Type   Mas.Vnr.Area  Exter.Qual Exter.Cond  Foundation   Bsmt.Qual  \n",
       "        :  23   Min.   :   0   Ex: 107    Ex:  12    BrkTil: 310   Ex  : 258  \n",
       " BrkCmn :  25   1st Qu.:   0   Fa:  35    Fa:  67    CBlock:1244   Fa  :  88  \n",
       " BrkFace: 880   Median :   0   Gd: 989    Gd: 299    PConc :1309   Gd  :1218  \n",
       " CBlock :   1   Mean   : 102   TA:1797    Po:   3    Slab  :  49   Po  :   2  \n",
       " None   :1750   3rd Qu.: 164              TA:2547    Stone :  11   TA  :1283  \n",
       " Stone  : 249   Max.   :1600                         Wood  :   5   NA's:  79  \n",
       "                NA's   :23                                                    \n",
       " Bsmt.Cond   Bsmt.Exposure BsmtFin.Type.1  BsmtFin.SF.1    BsmtFin.Type.2\n",
       " Ex  :   3       :   3     ALQ :428       Min.   :   0.0   Unf    :2498  \n",
       " Fa  : 104   Av  : 418     BLQ :269       1st Qu.:   0.0   Rec    : 106  \n",
       " Gd  : 122   Gd  : 284     GLQ :859       Median : 370.0   LwQ    :  89  \n",
       " Po  :   5   Mn  : 239     LwQ :154       Mean   : 442.6   BLQ    :  68  \n",
       " TA  :2615   No  :1905     Rec :288       3rd Qu.: 734.2   ALQ    :  53  \n",
       " NA's:  79   NA's:  79     Unf :851       Max.   :5644.0   (Other):  35  \n",
       "                           NA's: 79                        NA's   :  79  \n",
       "  BsmtFin.SF.2      Bsmt.Unf.SF     Total.Bsmt.SF   Heating     Heating.QC\n",
       " Min.   :   0.00   Min.   :   0.0   Min.   :   0   Floor:   1   Ex:1494   \n",
       " 1st Qu.:   0.00   1st Qu.: 219.0   1st Qu.: 793   GasA :2883   Fa:  92   \n",
       " Median :   0.00   Median : 466.0   Median : 990   GasW :  27   Gd: 476   \n",
       " Mean   :  49.74   Mean   : 559.3   Mean   :1052   Grav :   9   Po:   3   \n",
       " 3rd Qu.:   0.00   3rd Qu.: 802.2   3rd Qu.:1302   OthW :   2   TA: 863   \n",
       " Max.   :1526.00   Max.   :2336.0   Max.   :6110   Wall :   6             \n",
       "                                                                          \n",
       " Central.Air Electrical    X1st.Flr.SF    X2nd.Flr.SF     Low.Qual.Fin.SF  \n",
       " N: 196           :   1   Min.   : 334   Min.   :   0.0   Min.   :   0.00  \n",
       " Y:2732      FuseA: 187   1st Qu.: 876   1st Qu.:   0.0   1st Qu.:   0.00  \n",
       "             FuseF:  50   Median :1084   Median :   0.0   Median :   0.00  \n",
       "             FuseP:   8   Mean   :1160   Mean   : 335.4   Mean   :   4.68  \n",
       "             Mix  :   1   3rd Qu.:1385   3rd Qu.: 703.2   3rd Qu.:   0.00  \n",
       "             SBrkr:2681   Max.   :5095   Max.   :2065.0   Max.   :1064.00  \n",
       "                                                                           \n",
       "  Gr.Liv.Area   Bsmt.Full.Bath   Bsmt.Half.Bath      Full.Bath    \n",
       " Min.   : 334   Min.   :0.0000   Min.   :0.00000   Min.   :0.000  \n",
       " 1st Qu.:1126   1st Qu.:0.0000   1st Qu.:0.00000   1st Qu.:1.000  \n",
       " Median :1442   Median :0.0000   Median :0.00000   Median :2.000  \n",
       " Mean   :1500   Mean   :0.4315   Mean   :0.06115   Mean   :1.567  \n",
       " 3rd Qu.:1742   3rd Qu.:1.0000   3rd Qu.:0.00000   3rd Qu.:2.000  \n",
       " Max.   :5642   Max.   :3.0000   Max.   :2.00000   Max.   :4.000  \n",
       "                NA's   :1        NA's   :1                        \n",
       "   Half.Bath      Bedroom.AbvGr   Kitchen.AbvGr   Kitchen.Qual TotRms.AbvGrd   \n",
       " Min.   :0.0000   Min.   :0.000   Min.   :0.000   Ex: 205      Min.   : 2.000  \n",
       " 1st Qu.:0.0000   1st Qu.:2.000   1st Qu.:1.000   Fa:  70      1st Qu.: 5.000  \n",
       " Median :0.0000   Median :3.000   Median :1.000   Gd:1159      Median : 6.000  \n",
       " Mean   :0.3798   Mean   :2.855   Mean   :1.044   Po:   1      Mean   : 6.444  \n",
       " 3rd Qu.:1.0000   3rd Qu.:3.000   3rd Qu.:1.000   TA:1493      3rd Qu.: 7.000  \n",
       " Max.   :2.0000   Max.   :8.000   Max.   :3.000                Max.   :15.000  \n",
       "                                                                               \n",
       "   Functional     Fireplaces     Fireplace.Qu  Garage.Type   Garage.Yr.Blt \n",
       " Typ    :2726   Min.   :0.0000   Ex  :  43    2Types :  23   Min.   :1895  \n",
       " Min2   :  70   1st Qu.:0.0000   Fa  :  75    Attchd :1731   1st Qu.:1960  \n",
       " Min1   :  65   Median :1.0000   Gd  : 744    Basment:  36   Median :1979  \n",
       " Mod    :  35   Mean   :0.5997   Po  :  46    BuiltIn: 186   Mean   :1978  \n",
       " Maj1   :  19   3rd Qu.:1.0000   TA  : 600    CarPort:  15   3rd Qu.:2002  \n",
       " Maj2   :   9   Max.   :4.0000   NA's:1420    Detchd : 780   Max.   :2207  \n",
       " (Other):   4                                 NA's   : 157   NA's   :158   \n",
       " Garage.Finish  Garage.Cars     Garage.Area     Garage.Qual Garage.Cond\n",
       "     :   1     Min.   :0.000   Min.   :   0.0   Ex  :   3   Ex  :   3  \n",
       " Fin : 728     1st Qu.:1.000   1st Qu.: 320.0   Fa  : 124   Fa  :  74  \n",
       " RFn : 812     Median :2.000   Median : 480.0   Gd  :  24   Gd  :  15  \n",
       " Unf :1230     Mean   :1.767   Mean   : 472.9   Po  :   5   Po  :  14  \n",
       " NA's: 157     3rd Qu.:2.000   3rd Qu.: 576.0   TA  :2614   TA  :2664  \n",
       "               Max.   :5.000   Max.   :1488.0   NA's: 158   NA's: 158  \n",
       "                                                                       \n",
       " Paved.Drive  Wood.Deck.SF     Open.Porch.SF      Fence      Misc.Feature\n",
       " N: 216      Min.   :   0.00   Min.   :  0.00   GdPrv: 118   Elev:   1   \n",
       " P:  62      1st Qu.:   0.00   1st Qu.:  0.00   GdWo : 112   Gar2:   5   \n",
       " Y:2650      Median :   0.00   Median : 27.00   MnPrv: 328   Othr:   4   \n",
       "             Mean   :  93.76   Mean   : 47.57   MnWw :  12   Shed:  95   \n",
       "             3rd Qu.: 168.00   3rd Qu.: 70.00   NA's :2358   TenC:   1   \n",
       "             Max.   :1424.00   Max.   :742.00                NA's:2822   \n",
       "                                                                         \n",
       "    Mo.Sold          Yr.Sold       Sale.Type    Sale.Condition   SalePrice     \n",
       " Min.   : 1.000   Min.   :2006   WD     :2535   Abnorml: 189   Min.   : 12789  \n",
       " 1st Qu.: 4.000   1st Qu.:2007   New    : 239   AdjLand:  12   1st Qu.:129500  \n",
       " Median : 6.000   Median :2008   COD    :  87   Alloca :  23   Median :160000  \n",
       " Mean   : 6.218   Mean   :2008   ConLD  :  25   Family :  46   Mean   :180841  \n",
       " 3rd Qu.: 8.000   3rd Qu.:2009   CWD    :  12   Normal :2413   3rd Qu.:213500  \n",
       " Max.   :12.000   Max.   :2010   ConLI  :   9   Partial: 245   Max.   :755000  \n",
       "                                 (Other):  21                                  "
      ]
     },
     "metadata": {},
     "output_type": "display_data"
    }
   ],
   "source": [
    "summary(df)"
   ]
  },
  {
   "cell_type": "code",
   "execution_count": 46,
   "metadata": {
    "collapsed": false
   },
   "outputs": [
    {
     "name": "stdout",
     "output_type": "stream",
     "text": [
      "[1] 1\n"
     ]
    },
    {
     "ename": "ERROR",
     "evalue": "Error in model.frame.default(formula = SalePrice ~ attr, data = df, drop.unused.levels = TRUE): variable lengths differ (found for 'attr')\n",
     "output_type": "error",
     "traceback": [
      "Error in model.frame.default(formula = SalePrice ~ attr, data = df, drop.unused.levels = TRUE): variable lengths differ (found for 'attr')\nTraceback:\n",
      "1. lm(SalePrice ~ attr, data = df, drop.unused.levels = FALSE)   # at line 5 of file <text>",
      "2. eval(mf, parent.frame())",
      "3. eval(expr, envir, enclos)",
      "4. stats::model.frame(formula = SalePrice ~ attr, data = df, drop.unused.levels = TRUE)",
      "5. model.frame.default(formula = SalePrice ~ attr, data = df, drop.unused.levels = TRUE)"
     ]
    }
   ],
   "source": [
    "i <- 0\n",
    "for(attr in names(df)){\n",
    "    i <- i +1\n",
    "    print(i)\n",
    "    lm(SalePrice~ attr, data=df, drop.unused.levels = FALSE)\n",
    "    \n",
    "}"
   ]
  },
  {
   "cell_type": "code",
   "execution_count": 39,
   "metadata": {
    "collapsed": false
   },
   "outputs": [],
   "source": [
    "fit <- lm(SalePrice~ Central.Air + MS.Zoning + Condition.1 + Open.Porch.SF + Wood.Deck.SF + Sale.Type + Land.Slope, data=df)"
   ]
  },
  {
   "cell_type": "code",
   "execution_count": 54,
   "metadata": {
    "collapsed": false
   },
   "outputs": [
    {
     "data": {
      "text/plain": [
       "\n",
       "Call:\n",
       "lm(formula = SalePrice ~ MS.Zoning + Central.Air + Heating + \n",
       "    Paved.Drive + Street + Mas.Vnr.Type, data = df)\n",
       "\n",
       "Residuals:\n",
       "    Min      1Q  Median      3Q     Max \n",
       "-164429  -41935  -11935   25588  574065 \n",
       "\n",
       "Coefficients:\n",
       "                    Estimate Std. Error t value Pr(>|t|)    \n",
       "(Intercept)            36387      87311   0.417   0.6769    \n",
       "MS.ZoningC (all)        7179      51779   0.139   0.8897    \n",
       "MS.ZoningFV            79301      50222   1.579   0.1144    \n",
       "MS.ZoningI (all)       16576      69567   0.238   0.8117    \n",
       "MS.ZoningRH            34193      51522   0.664   0.5070    \n",
       "MS.ZoningRL            57412      49880   1.151   0.2498    \n",
       "MS.ZoningRM            13451      49915   0.269   0.7876    \n",
       "Central.AirY           39452       5924   6.659 3.28e-11 ***\n",
       "HeatingGasA            58983      67481   0.874   0.3822    \n",
       "HeatingGasW            99658      68541   1.454   0.1461    \n",
       "HeatingGrav            43905      70906   0.619   0.5358    \n",
       "HeatingOthW           107218      82502   1.300   0.1938    \n",
       "HeatingWall            15183      73080   0.208   0.8354    \n",
       "Paved.DriveP            4584       9875   0.464   0.6426    \n",
       "Paved.DriveY           24597       5426   4.533 6.04e-06 ***\n",
       "StreetPave             10926      20825   0.525   0.5999    \n",
       "Mas.Vnr.TypeBrkCmn    -78454      19526  -4.018 6.02e-05 ***\n",
       "Mas.Vnr.TypeBrkFace   -13414      14289  -0.939   0.3480    \n",
       "Mas.Vnr.TypeCBlock   -108304      68941  -1.571   0.1163    \n",
       "Mas.Vnr.TypeNone      -56822      14208  -3.999 6.51e-05 ***\n",
       "Mas.Vnr.TypeStone      35672      14712   2.425   0.0154 *  \n",
       "---\n",
       "Signif. codes:  0 ‘***’ 0.001 ‘**’ 0.01 ‘*’ 0.05 ‘.’ 0.1 ‘ ’ 1\n",
       "\n",
       "Residual standard error: 67210 on 2907 degrees of freedom\n",
       "Multiple R-squared:  0.297,\tAdjusted R-squared:  0.2922 \n",
       "F-statistic: 61.41 on 20 and 2907 DF,  p-value: < 2.2e-16\n"
      ]
     },
     "metadata": {},
     "output_type": "display_data"
    }
   ],
   "source": [
    "summary(lm(SalePrice~ MS.Zoning + Central.Air + Heating + Paved.Drive + Street + Mas.Vnr.Type, data=df))"
   ]
  },
  {
   "cell_type": "code",
   "execution_count": 55,
   "metadata": {
    "collapsed": true
   },
   "outputs": [],
   "source": [
    "cond <- ''\n",
    "for(attr in names(df)) {\n",
    "   cond <- paste(cond, attr, sep=\" + \") \n",
    "}"
   ]
  },
  {
   "cell_type": "code",
   "execution_count": 56,
   "metadata": {
    "collapsed": false
   },
   "outputs": [
    {
     "data": {
      "text/html": [
       "' + MS.SubClass + MS.Zoning + Lot.Frontage + Lot.Area + Street + Alley + Lot.Shape + Land.Contour + Lot.Config + Land.Slope + Neighborhood + Condition.1 + Bldg.Type + House.Style + Overall.Qual + Overall.Cond + Year.Built + Year.Remod.Add + Roof.Style + Exterior.1st + Exterior.2nd + Mas.Vnr.Type + Mas.Vnr.Area + Exter.Qual + Exter.Cond + Foundation + Bsmt.Qual + Bsmt.Cond + Bsmt.Exposure + BsmtFin.Type.1 + BsmtFin.SF.1 + BsmtFin.Type.2 + BsmtFin.SF.2 + Bsmt.Unf.SF + Total.Bsmt.SF + Heating + Heating.QC + Central.Air + Electrical + X1st.Flr.SF + X2nd.Flr.SF + Low.Qual.Fin.SF + Gr.Liv.Area + Bsmt.Full.Bath + Bsmt.Half.Bath + Full.Bath + Half.Bath + Bedroom.AbvGr + Kitchen.AbvGr + Kitchen.Qual + TotRms.AbvGrd + Functional + Fireplaces + Fireplace.Qu + Garage.Type + Garage.Yr.Blt + Garage.Finish + Garage.Cars + Garage.Area + Garage.Qual + Garage.Cond + Paved.Drive + Wood.Deck.SF + Open.Porch.SF + Fence + Misc.Feature + Mo.Sold + Yr.Sold + Sale.Type + Sale.Condition + SalePrice'"
      ],
      "text/latex": [
       "' + MS.SubClass + MS.Zoning + Lot.Frontage + Lot.Area + Street + Alley + Lot.Shape + Land.Contour + Lot.Config + Land.Slope + Neighborhood + Condition.1 + Bldg.Type + House.Style + Overall.Qual + Overall.Cond + Year.Built + Year.Remod.Add + Roof.Style + Exterior.1st + Exterior.2nd + Mas.Vnr.Type + Mas.Vnr.Area + Exter.Qual + Exter.Cond + Foundation + Bsmt.Qual + Bsmt.Cond + Bsmt.Exposure + BsmtFin.Type.1 + BsmtFin.SF.1 + BsmtFin.Type.2 + BsmtFin.SF.2 + Bsmt.Unf.SF + Total.Bsmt.SF + Heating + Heating.QC + Central.Air + Electrical + X1st.Flr.SF + X2nd.Flr.SF + Low.Qual.Fin.SF + Gr.Liv.Area + Bsmt.Full.Bath + Bsmt.Half.Bath + Full.Bath + Half.Bath + Bedroom.AbvGr + Kitchen.AbvGr + Kitchen.Qual + TotRms.AbvGrd + Functional + Fireplaces + Fireplace.Qu + Garage.Type + Garage.Yr.Blt + Garage.Finish + Garage.Cars + Garage.Area + Garage.Qual + Garage.Cond + Paved.Drive + Wood.Deck.SF + Open.Porch.SF + Fence + Misc.Feature + Mo.Sold + Yr.Sold + Sale.Type + Sale.Condition + SalePrice'"
      ],
      "text/markdown": [
       "' + MS.SubClass + MS.Zoning + Lot.Frontage + Lot.Area + Street + Alley + Lot.Shape + Land.Contour + Lot.Config + Land.Slope + Neighborhood + Condition.1 + Bldg.Type + House.Style + Overall.Qual + Overall.Cond + Year.Built + Year.Remod.Add + Roof.Style + Exterior.1st + Exterior.2nd + Mas.Vnr.Type + Mas.Vnr.Area + Exter.Qual + Exter.Cond + Foundation + Bsmt.Qual + Bsmt.Cond + Bsmt.Exposure + BsmtFin.Type.1 + BsmtFin.SF.1 + BsmtFin.Type.2 + BsmtFin.SF.2 + Bsmt.Unf.SF + Total.Bsmt.SF + Heating + Heating.QC + Central.Air + Electrical + X1st.Flr.SF + X2nd.Flr.SF + Low.Qual.Fin.SF + Gr.Liv.Area + Bsmt.Full.Bath + Bsmt.Half.Bath + Full.Bath + Half.Bath + Bedroom.AbvGr + Kitchen.AbvGr + Kitchen.Qual + TotRms.AbvGrd + Functional + Fireplaces + Fireplace.Qu + Garage.Type + Garage.Yr.Blt + Garage.Finish + Garage.Cars + Garage.Area + Garage.Qual + Garage.Cond + Paved.Drive + Wood.Deck.SF + Open.Porch.SF + Fence + Misc.Feature + Mo.Sold + Yr.Sold + Sale.Type + Sale.Condition + SalePrice'"
      ],
      "text/plain": [
       "[1] \" + MS.SubClass + MS.Zoning + Lot.Frontage + Lot.Area + Street + Alley + Lot.Shape + Land.Contour + Lot.Config + Land.Slope + Neighborhood + Condition.1 + Bldg.Type + House.Style + Overall.Qual + Overall.Cond + Year.Built + Year.Remod.Add + Roof.Style + Exterior.1st + Exterior.2nd + Mas.Vnr.Type + Mas.Vnr.Area + Exter.Qual + Exter.Cond + Foundation + Bsmt.Qual + Bsmt.Cond + Bsmt.Exposure + BsmtFin.Type.1 + BsmtFin.SF.1 + BsmtFin.Type.2 + BsmtFin.SF.2 + Bsmt.Unf.SF + Total.Bsmt.SF + Heating + Heating.QC + Central.Air + Electrical + X1st.Flr.SF + X2nd.Flr.SF + Low.Qual.Fin.SF + Gr.Liv.Area + Bsmt.Full.Bath + Bsmt.Half.Bath + Full.Bath + Half.Bath + Bedroom.AbvGr + Kitchen.AbvGr + Kitchen.Qual + TotRms.AbvGrd + Functional + Fireplaces + Fireplace.Qu + Garage.Type + Garage.Yr.Blt + Garage.Finish + Garage.Cars + Garage.Area + Garage.Qual + Garage.Cond + Paved.Drive + Wood.Deck.SF + Open.Porch.SF + Fence + Misc.Feature + Mo.Sold + Yr.Sold + Sale.Type + Sale.Condition + SalePrice\""
      ]
     },
     "metadata": {},
     "output_type": "display_data"
    }
   ],
   "source": [
    "cond"
   ]
  },
  {
   "cell_type": "code",
   "execution_count": 128,
   "metadata": {
    "collapsed": false
   },
   "outputs": [
    {
     "data": {
      "text/plain": [
       "\n",
       "Call:\n",
       "lm(formula = SalePrice ~ Mas.Vnr.Type + Mas.Vnr.Area + Exter.Qual + \n",
       "    Exter.Cond + Foundation + Bsmt.Qual + Bsmt.Cond + Bsmt.Exposure + \n",
       "    BsmtFin.Type.1 + BsmtFin.SF.1 + BsmtFin.Type.2 + BsmtFin.SF.2 + \n",
       "    Bsmt.Unf.SF + Total.Bsmt.SF + Heating + Heating.QC + Central.Air + \n",
       "    Electrical + X1st.Flr.SF + X2nd.Flr.SF + Low.Qual.Fin.SF + \n",
       "    Gr.Liv.Area + Bsmt.Full.Bath + Bsmt.Half.Bath + Full.Bath + \n",
       "    Half.Bath + Bedroom.AbvGr + Kitchen.AbvGr + Kitchen.Qual + \n",
       "    TotRms.AbvGrd + Functional + Fireplaces + Kitchen.AbvGr + \n",
       "    Kitchen.Qual + TotRms.AbvGrd + Garage.Area + Paved.Drive + \n",
       "    Open.Porch.SF + Fence + Misc.Feature + Mo.Sold + Sale.Condition, \n",
       "    data = df)\n",
       "\n",
       "Residuals:\n",
       "ALL 41 residuals are 0: no residual degrees of freedom!\n",
       "\n",
       "Coefficients: (24 not defined because of singularities)\n",
       "                      Estimate Std. Error t value Pr(>|t|)\n",
       "(Intercept)          -392857.2         NA      NA       NA\n",
       "Mas.Vnr.TypeNone     -288539.9         NA      NA       NA\n",
       "Mas.Vnr.TypeStone     -71874.3         NA      NA       NA\n",
       "Mas.Vnr.Area            -623.3         NA      NA       NA\n",
       "Exter.QualGd           46242.6         NA      NA       NA\n",
       "Exter.QualTA          328783.6         NA      NA       NA\n",
       "Exter.CondGd           32194.4         NA      NA       NA\n",
       "Exter.CondPo           -8300.6         NA      NA       NA\n",
       "Exter.CondTA          125279.4         NA      NA       NA\n",
       "FoundationCBlock      148028.7         NA      NA       NA\n",
       "FoundationPConc       260585.0         NA      NA       NA\n",
       "FoundationStone             NA         NA      NA       NA\n",
       "FoundationWood        266893.6         NA      NA       NA\n",
       "Bsmt.QualTA           226897.8         NA      NA       NA\n",
       "Bsmt.CondGd            50851.1         NA      NA       NA\n",
       "Bsmt.CondTA          -226408.3         NA      NA       NA\n",
       "Bsmt.ExposureMn      -391947.7         NA      NA       NA\n",
       "Bsmt.ExposureNo       -26098.0         NA      NA       NA\n",
       "BsmtFin.Type.1BLQ      47989.4         NA      NA       NA\n",
       "BsmtFin.Type.1GLQ     197476.7         NA      NA       NA\n",
       "BsmtFin.Type.1LwQ     -69988.5         NA      NA       NA\n",
       "BsmtFin.Type.1Rec     266189.7         NA      NA       NA\n",
       "BsmtFin.Type.1Unf     537709.6         NA      NA       NA\n",
       "BsmtFin.SF.1             727.2         NA      NA       NA\n",
       "BsmtFin.Type.2BLQ     453902.1         NA      NA       NA\n",
       "BsmtFin.Type.2GLQ     -16260.1         NA      NA       NA\n",
       "BsmtFin.Type.2LwQ     -49260.8         NA      NA       NA\n",
       "BsmtFin.Type.2Unf           NA         NA      NA       NA\n",
       "BsmtFin.SF.2             160.8         NA      NA       NA\n",
       "Bsmt.Unf.SF              560.6         NA      NA       NA\n",
       "Total.Bsmt.SF               NA         NA      NA       NA\n",
       "HeatingGasW           636456.6         NA      NA       NA\n",
       "Heating.QCFa          132754.4         NA      NA       NA\n",
       "Heating.QCGd         -222336.6         NA      NA       NA\n",
       "Heating.QCTA         -143329.0         NA      NA       NA\n",
       "Central.AirY         -168815.2         NA      NA       NA\n",
       "ElectricalSBrkr             NA         NA      NA       NA\n",
       "X1st.Flr.SF             -577.5         NA      NA       NA\n",
       "X2nd.Flr.SF              146.8         NA      NA       NA\n",
       "Low.Qual.Fin.SF        -1103.1         NA      NA       NA\n",
       "Gr.Liv.Area                 NA         NA      NA       NA\n",
       "Bsmt.Full.Bath        142242.9         NA      NA       NA\n",
       "Bsmt.Half.Bath        140367.7         NA      NA       NA\n",
       "Full.Bath             106602.6         NA      NA       NA\n",
       "Half.Bath            -175055.7         NA      NA       NA\n",
       "Bedroom.AbvGr          61881.0         NA      NA       NA\n",
       "Kitchen.AbvGr               NA         NA      NA       NA\n",
       "Kitchen.QualGd              NA         NA      NA       NA\n",
       "Kitchen.QualTA              NA         NA      NA       NA\n",
       "TotRms.AbvGrd               NA         NA      NA       NA\n",
       "FunctionalMin2              NA         NA      NA       NA\n",
       "FunctionalMod               NA         NA      NA       NA\n",
       "FunctionalTyp               NA         NA      NA       NA\n",
       "Fireplaces                  NA         NA      NA       NA\n",
       "Garage.Area                 NA         NA      NA       NA\n",
       "Paved.DriveY                NA         NA      NA       NA\n",
       "Open.Porch.SF               NA         NA      NA       NA\n",
       "FenceGdWo                   NA         NA      NA       NA\n",
       "FenceMnPrv                  NA         NA      NA       NA\n",
       "FenceMnWw                   NA         NA      NA       NA\n",
       "Misc.FeatureOthr            NA         NA      NA       NA\n",
       "Misc.FeatureShed            NA         NA      NA       NA\n",
       "Misc.FeatureTenC            NA         NA      NA       NA\n",
       "Mo.Sold                     NA         NA      NA       NA\n",
       "Sale.ConditionNormal        NA         NA      NA       NA\n",
       "\n",
       "Residual standard error: NaN on 0 degrees of freedom\n",
       "  (2887 observations deleted due to missingness)\n",
       "Multiple R-squared:      1,\tAdjusted R-squared:    NaN \n",
       "F-statistic:   NaN on 40 and 0 DF,  p-value: NA\n"
      ]
     },
     "metadata": {},
     "output_type": "display_data"
    }
   ],
   "source": [
    "summary(lm(SalePrice~ Mas.Vnr.Type + Mas.Vnr.Area + Exter.Qual + Exter.Cond + Foundation + Bsmt.Qual + Bsmt.Cond + Bsmt.Exposure + BsmtFin.Type.1 + BsmtFin.SF.1 +  BsmtFin.Type.2 + BsmtFin.SF.2 + Bsmt.Unf.SF + Total.Bsmt.SF + Heating + Heating.QC + Central.Air + Electrical + X1st.Flr.SF + X2nd.Flr.SF + Low.Qual.Fin.SF + Gr.Liv.Area + Bsmt.Full.Bath + Bsmt.Half.Bath + Full.Bath + Half.Bath + Bedroom.AbvGr + Kitchen.AbvGr + Kitchen.Qual + TotRms.AbvGrd + Functional + Fireplaces + Kitchen.AbvGr + Kitchen.Qual + TotRms.AbvGrd    + Garage.Area + Paved.Drive + Open.Porch.SF + Fence + Misc.Feature + Mo.Sold + Sale.Condition, data=df))"
   ]
  },
  {
   "cell_type": "code",
   "execution_count": 125,
   "metadata": {
    "collapsed": false
   },
   "outputs": [
    {
     "ename": "ERROR",
     "evalue": "Error in eval(expr, envir, enclos): object 'Garage.Yr.Built' not found\n",
     "output_type": "error",
     "traceback": [
      "Error in eval(expr, envir, enclos): object 'Garage.Yr.Built' not found\nTraceback:\n",
      "1. summary(lm(SalePrice ~ . - Garage.Finish - Garage.Yr.Built - \n .     Garage.Type - Fireplace.Qu, data = df))",
      "2. lm(SalePrice ~ . - Garage.Finish - Garage.Yr.Built - Garage.Type - \n .     Fireplace.Qu, data = df)",
      "3. eval(mf, parent.frame())",
      "4. eval(expr, envir, enclos)",
      "5. stats::model.frame(formula = SalePrice ~ . - Garage.Finish - \n .     Garage.Yr.Built - Garage.Type - Fireplace.Qu, data = df, \n .     drop.unused.levels = TRUE)",
      "6. model.frame.default(formula = SalePrice ~ . - Garage.Finish - \n .     Garage.Yr.Built - Garage.Type - Fireplace.Qu, data = df, \n .     drop.unused.levels = TRUE)",
      "7. eval(predvars, data, env)",
      "8. eval(expr, envir, enclos)"
     ]
    }
   ],
   "source": [
    "summary(lm(SalePrice~ . - Garage.Finish - Garage.Yr.Built - Garage.Type - Fireplace.Qu, data=df))"
   ]
  },
  {
   "cell_type": "code",
   "execution_count": null,
   "metadata": {
    "collapsed": true
   },
   "outputs": [],
   "source": []
  }
 ],
 "metadata": {
  "kernelspec": {
   "display_name": "R",
   "language": "R",
   "name": "ir"
  },
  "language_info": {
   "codemirror_mode": "r",
   "file_extension": ".r",
   "mimetype": "text/x-r-source",
   "name": "R",
   "pygments_lexer": "r",
   "version": "3.3.2"
  }
 },
 "nbformat": 4,
 "nbformat_minor": 0
}
